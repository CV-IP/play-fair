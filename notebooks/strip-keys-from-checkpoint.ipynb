{
 "cells": [
  {
   "cell_type": "code",
   "execution_count": 15,
   "metadata": {},
   "outputs": [],
   "source": [
    "import torch\n",
    "from pprint import pprint\n",
    "import argparse\n",
    "from copy import copy\n",
    "from pathlib import Path"
   ]
  },
  {
   "cell_type": "code",
   "execution_count": 22,
   "metadata": {},
   "outputs": [],
   "source": [
    "ckpt_path = Path('../models/TSN-dataset=SSv2-backbone=resnet50-n_segments=8-dropout=0.7/TSN_loss=nll_optimizer=SGD_lr=0.01_momentum=0.9_weight_decay=0_nesterov=False_scheduler=MultiStepLR_milestones=30-60_factor=0.1_pretrain=imagenet_clip-grad=None_state_61.pth')"
   ]
  },
  {
   "cell_type": "code",
   "execution_count": 23,
   "metadata": {},
   "outputs": [
    {
     "data": {
      "text/plain": [
       "dict_keys(['epoch', 'args', 'model', 'optimizer', 'scheduler'])"
      ]
     },
     "execution_count": 23,
     "metadata": {},
     "output_type": "execute_result"
    }
   ],
   "source": [
    "ckpt = torch.load(ckpt_path, map_location='cpu')\n",
    "ckpt.keys()"
   ]
  },
  {
   "cell_type": "code",
   "execution_count": 24,
   "metadata": {},
   "outputs": [],
   "source": [
    "args_to_keep = [\n",
    "    'batch_size',\n",
    "    'backbone',\n",
    "    'clip_gradient',\n",
    "    'dataset',\n",
    "    'dropout',\n",
    "    'frame_count',\n",
    "    'frame_stride',\n",
    "    'loss',\n",
    "    'lr',\n",
    "    'model',\n",
    "    'pretrain',\n",
    "    'sampler',\n",
    "    'sgd_momentum',\n",
    "    'sgd_nesterov',\n",
    "    'tsn_backbone_dim',\n",
    "    'tsn_dropout',\n",
    "]"
   ]
  },
  {
   "cell_type": "code",
   "execution_count": 25,
   "metadata": {},
   "outputs": [],
   "source": [
    "original_args = ckpt['args']\n",
    "stripped_args = argparse.Namespace()\n",
    "for arg in args_to_keep:\n",
    "    setattr(stripped_args, arg, getattr(original_args, arg))"
   ]
  },
  {
   "cell_type": "code",
   "execution_count": 26,
   "metadata": {},
   "outputs": [
    {
     "name": "stdout",
     "output_type": "stream",
     "text": [
      "{'backbone': 'resnet50',\n",
      " 'batch_size': 64,\n",
      " 'clip_gradient': None,\n",
      " 'dataset': 'something_something_v2',\n",
      " 'dropout': 0.7,\n",
      " 'frame_count': 8,\n",
      " 'frame_stride': 1,\n",
      " 'loss': 'nll',\n",
      " 'lr': 0.01,\n",
      " 'model': 'TSN',\n",
      " 'pretrain': 'imagenet',\n",
      " 'sampler': 'temporal_segment',\n",
      " 'sgd_momentum': 0.9,\n",
      " 'sgd_nesterov': False,\n",
      " 'tsn_backbone_dim': 256,\n",
      " 'tsn_dropout': 0.7}\n"
     ]
    }
   ],
   "source": [
    "pprint(dict(vars(stripped_args)))"
   ]
  },
  {
   "cell_type": "code",
   "execution_count": 27,
   "metadata": {},
   "outputs": [],
   "source": [
    "new_ckpt = copy(ckpt)\n",
    "new_ckpt['args'] = stripped_args"
   ]
  },
  {
   "cell_type": "code",
   "execution_count": 28,
   "metadata": {},
   "outputs": [],
   "source": [
    "torch.save(new_ckpt, ckpt_path.with_name(ckpt_path.stem + '_stripped.pth'))"
   ]
  }
 ],
 "metadata": {
  "kernelspec": {
   "display_name": "Python [conda env:action-models]",
   "language": "python",
   "name": "conda-env-action-models-py"
  },
  "language_info": {
   "codemirror_mode": {
    "name": "ipython",
    "version": 3
   },
   "file_extension": ".py",
   "mimetype": "text/x-python",
   "name": "python",
   "nbconvert_exporter": "python",
   "pygments_lexer": "ipython3",
   "version": "3.7.3"
  }
 },
 "nbformat": 4,
 "nbformat_minor": 4
}
